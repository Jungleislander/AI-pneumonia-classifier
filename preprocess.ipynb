{
 "cells": [
  {
   "cell_type": "markdown",
   "id": "26bc26be",
   "metadata": {},
   "source": [
    "## Preprocess the Images"
   ]
  }
 ],
 "metadata": {
  "language_info": {
   "name": "python"
  }
 },
 "nbformat": 4,
 "nbformat_minor": 5
}
