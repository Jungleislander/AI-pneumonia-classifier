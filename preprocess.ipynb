{
  "cells": [
    {
      "cell_type": "markdown",
      "id": "26bc26be",
      "metadata": {
        "id": "26bc26be"
      },
      "source": [
        "## Preprocess the Images\n",
        "Preprocess the images"
      ]
    }
  ],
  "metadata": {
    "language_info": {
      "name": "python"
    },
    "colab": {
      "provenance": []
    }
  },
  "nbformat": 4,
  "nbformat_minor": 5
}