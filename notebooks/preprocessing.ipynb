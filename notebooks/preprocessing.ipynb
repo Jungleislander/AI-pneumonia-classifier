{
 "cells": [
  {
   "cell_type": "markdown",
   "id": "26bc26be",
   "metadata": {
    "id": "26bc26be"
   },
   "source": [
    "# Image Preprocessing for Pneumonia Classification\n",
    "\n",
    "[Open in Colab](https://colab.research.google.com/github/omarsagoo/AI-pneumonia-classifier/blob/main/notebooks/preprocessing.ipynb)\n",
    "\n",
    "This notebook handles image loading, preprocessing, and augmentation for the chest X-ray dataset used in the pneumonia classification project.\n",
    "\n",
    "## Objectives\n",
    "\n",
    "- Load and inspect raw X-ray images\n",
    "- Normalize image dimensions and pixel intensities\n",
    "- Apply grayscale conversion\n",
    "- Perform data augmentation to reduce overfitting\n",
    "- Prepare data generators for model training and evaluation"
   ]
  },
  {
   "cell_type": "markdown",
   "id": "JCvwzJF59Qwm",
   "metadata": {
    "id": "JCvwzJF59Qwm"
   },
   "source": [
    "## Install Dependecies and Import Required Packages"
   ]
  },
  {
   "cell_type": "code",
   "execution_count": 1,
   "id": "m1NA37dj6VT2",
   "metadata": {
    "colab": {
     "base_uri": "https://localhost:8080/"
    },
    "id": "m1NA37dj6VT2",
    "outputId": "4d88d93c-fe89-40ab-a954-ce2c1ea5ce02"
   },
   "outputs": [
    {
     "name": "stderr",
     "output_type": "stream",
     "text": [
      "2025-06-10 06:34:53.838342: I tensorflow/core/platform/cpu_feature_guard.cc:210] This TensorFlow binary is optimized to use available CPU instructions in performance-critical operations.\n",
      "To enable the following instructions: AVX2 FMA, in other operations, rebuild TensorFlow with the appropriate compiler flags.\n"
     ]
    }
   ],
   "source": [
    "# Imports\n",
    "import os\n",
    "import numpy as np\n",
    "import matplotlib.pyplot as plt\n",
    "import tensorflow as tf\n",
    "from PIL import Image\n",
    "\n",
    "from tensorflow.keras.preprocessing.image import ImageDataGenerator"
   ]
  },
  {
   "cell_type": "code",
   "execution_count": 2,
   "id": "d07216df-674c-4d9c-b50c-ed4eefc300d7",
   "metadata": {},
   "outputs": [],
   "source": [
    "# Import utility functions\n",
    "\n",
    "from utils.preprocessor import show_sample_images, visualize_augmentation"
   ]
  },
  {
   "cell_type": "markdown",
   "id": "WJBRiLyB6Mc7",
   "metadata": {
    "id": "WJBRiLyB6Mc7"
   },
   "source": [
    "## Directory Structure\n",
    "\n",
    "Define paths to the training, validation, and test datasets."
   ]
  },
  {
   "cell_type": "code",
   "execution_count": 3,
   "id": "H2VsTwx66Oc8",
   "metadata": {
    "id": "H2VsTwx66Oc8"
   },
   "outputs": [],
   "source": [
    "base_dir = '/content/drive/MyDrive/pneumonia-data/chest_xray'\n",
    "train_dir = os.path.join(base_dir, 'train')\n",
    "val_dir = os.path.join(base_dir, 'val')\n",
    "test_dir = os.path.join(base_dir, 'test')"
   ]
  },
  {
   "cell_type": "markdown",
   "id": "7rDtsXxo4Mek",
   "metadata": {
    "id": "7rDtsXxo4Mek"
   },
   "source": [
    "## Visual Inspection of Images\n",
    "\n",
    "Display a few sample images from each class to understand dataset characteristics.\n"
   ]
  },
  {
   "cell_type": "code",
   "execution_count": 4,
   "id": "XIYF6un-4WxC",
   "metadata": {
    "colab": {
     "base_uri": "https://localhost:8080/",
     "height": 520
    },
    "id": "XIYF6un-4WxC",
    "outputId": "a8506328-cadf-4e1d-ad3c-d3a2afc472d4"
   },
   "outputs": [
    {
     "ename": "FileNotFoundError",
     "evalue": "[Errno 2] No such file or directory: '/content/drive/MyDrive/pneumonia-data/chest_xray/train/NORMAL'",
     "output_type": "error",
     "traceback": [
      "\u001b[0;31m---------------------------------------------------------------------------\u001b[0m",
      "\u001b[0;31mFileNotFoundError\u001b[0m                         Traceback (most recent call last)",
      "Cell \u001b[0;32mIn[4], line 2\u001b[0m\n\u001b[1;32m      1\u001b[0m \u001b[38;5;66;03m# Visualize normal and pneumonia samples\u001b[39;00m\n\u001b[0;32m----> 2\u001b[0m \u001b[43mshow_sample_images\u001b[49m\u001b[43m(\u001b[49m\u001b[43mtrain_dir\u001b[49m\u001b[43m,\u001b[49m\u001b[43m \u001b[49m\u001b[38;5;124;43m'\u001b[39;49m\u001b[38;5;124;43mNORMAL\u001b[39;49m\u001b[38;5;124;43m'\u001b[39;49m\u001b[43m)\u001b[49m\n\u001b[1;32m      3\u001b[0m show_sample_images(train_dir, \u001b[38;5;124m'\u001b[39m\u001b[38;5;124mPNEUMONIA\u001b[39m\u001b[38;5;124m'\u001b[39m)\n",
      "File \u001b[0;32m~/dev/sandiego/aai510/ai-pneumonia-classifier/notebooks/utils/preprocessor.py:8\u001b[0m, in \u001b[0;36mshow_sample_images\u001b[0;34m(directory, label, num_images)\u001b[0m\n\u001b[1;32m      6\u001b[0m \u001b[38;5;28;01mdef\u001b[39;00m \u001b[38;5;21mshow_sample_images\u001b[39m(directory, label, num_images\u001b[38;5;241m=\u001b[39m\u001b[38;5;241m5\u001b[39m):\n\u001b[1;32m      7\u001b[0m     path \u001b[38;5;241m=\u001b[39m os\u001b[38;5;241m.\u001b[39mpath\u001b[38;5;241m.\u001b[39mjoin(directory, label)\n\u001b[0;32m----> 8\u001b[0m     images \u001b[38;5;241m=\u001b[39m \u001b[43mos\u001b[49m\u001b[38;5;241;43m.\u001b[39;49m\u001b[43mlistdir\u001b[49m\u001b[43m(\u001b[49m\u001b[43mpath\u001b[49m\u001b[43m)\u001b[49m[:num_images]\n\u001b[1;32m      9\u001b[0m     plt\u001b[38;5;241m.\u001b[39mfigure(figsize\u001b[38;5;241m=\u001b[39m(\u001b[38;5;241m15\u001b[39m, \u001b[38;5;241m3\u001b[39m))\n\u001b[1;32m     10\u001b[0m     \u001b[38;5;28;01mfor\u001b[39;00m i, img_name \u001b[38;5;129;01min\u001b[39;00m \u001b[38;5;28menumerate\u001b[39m(images):\n",
      "\u001b[0;31mFileNotFoundError\u001b[0m: [Errno 2] No such file or directory: '/content/drive/MyDrive/pneumonia-data/chest_xray/train/NORMAL'"
     ]
    }
   ],
   "source": [
    "# Visualize normal and pneumonia samples\n",
    "show_sample_images(train_dir, 'NORMAL')\n",
    "show_sample_images(train_dir, 'PNEUMONIA')"
   ]
  },
  {
   "cell_type": "markdown",
   "id": "MppOc_cy5Hi2",
   "metadata": {
    "id": "MppOc_cy5Hi2"
   },
   "source": [
    "## Data Preprocessing and Augmentation\n",
    "\n",
    "To mitigate overfitting and simulate real-world variability in medical imaging, we apply a variety of computer vision augmentation techniques during training, including:\n",
    "\n",
    "- Horizontal flipping\n",
    "- Random cropping (via width and height shift)\n",
    "- Rotation\n",
    "- Zoom\n",
    "- Brightness adjustment\n",
    "- Shearing\n",
    "\n",
    "All pixel values are rescaled to the [0, 1] range.\n",
    "\n",
    "Medical imaging datasets are often limited in size and diversity due to patient privacy, cost, and availability. Data augmentation is a critical technique to increase the effective size of the dataset and improve model generalization.\n",
    "\n",
    "For pneumonia detection from chest X-rays, augmentation serves several purposes:\n",
    "\n",
    "- **Horizontal flipping** simulates anatomical variation and positional differences between left and right lungs.\n",
    "- **Cropping and shifting** emulate differences in patient positioning and framing.\n",
    "- **Brightness adjustments** reflect variability in exposure across X-ray machines.\n",
    "- **Rotation and shear** simulate variations due to imperfect alignment of patients during scanning.\n",
    "- **Zoom and scaling** improve the model’s ability to recognize pneumonia patterns at different resolutions.\n",
    "\n",
    "These augmentations help the model learn invariant and robust features, reducing overfitting and improving performance on unseen data."
   ]
  },
  {
   "cell_type": "code",
   "execution_count": null,
   "id": "Xx261RWJ4XwI",
   "metadata": {
    "colab": {
     "base_uri": "https://localhost:8080/"
    },
    "id": "Xx261RWJ4XwI",
    "outputId": "eab2cefa-815d-41ce-d96b-c3ed6b2341c2"
   },
   "outputs": [],
   "source": [
    "IMG_SIZE = (150, 150)\n",
    "\n",
    "train_datagen = ImageDataGenerator(\n",
    "    rescale=1./255,\n",
    "    rotation_range=15,             # Random rotation between -15 to 15 degrees\n",
    "    width_shift_range=0.1,         # Horizontal shift\n",
    "    height_shift_range=0.1,        # Vertical shift\n",
    "    zoom_range=0.1,                # Random zoom\n",
    "    shear_range=0.1,               # Shear angle\n",
    "    horizontal_flip=True,          # Random horizontal flipping\n",
    "    brightness_range=[0.8, 1.2]    # Random brightness adjustment\n",
    ")\n",
    "\n",
    "val_datagen = ImageDataGenerator(rescale=1./255)\n",
    "\n",
    "train_generator = train_datagen.flow_from_directory(\n",
    "    train_dir,\n",
    "    target_size=IMG_SIZE,\n",
    "    batch_size=32,\n",
    "    class_mode='binary',\n",
    "    color_mode='grayscale'\n",
    ")\n",
    "\n",
    "val_generator = val_datagen.flow_from_directory(\n",
    "    val_dir,\n",
    "    target_size=IMG_SIZE,\n",
    "    batch_size=32,\n",
    "    class_mode='binary',\n",
    "    color_mode='grayscale'\n",
    ")\n",
    "\n",
    "test_generator = val_datagen.flow_from_directory(\n",
    "    test_dir,\n",
    "    target_size=IMG_SIZE,\n",
    "    batch_size=32,\n",
    "    class_mode='binary',\n",
    "    color_mode='grayscale',\n",
    "    shuffle=False\n",
    ")"
   ]
  },
  {
   "cell_type": "code",
   "execution_count": null,
   "id": "X70RZFcD6fE8",
   "metadata": {
    "colab": {
     "base_uri": "https://localhost:8080/",
     "height": 584
    },
    "id": "X70RZFcD6fE8",
    "outputId": "780cd616-cbd4-47ec-b76e-99054f9eb5cf"
   },
   "outputs": [],
   "source": [
    "# Show examples of augmented 'NORMAL' (label 0) and 'PNEUMONIA' (label 1)\n",
    "visualize_augmentation(train_generator, class_label=0, num_images=5)\n",
    "visualize_augmentation(train_generator, class_label=1, num_images=5)"
   ]
  },
  {
   "cell_type": "markdown",
   "id": "P3nMN5H1647o",
   "metadata": {
    "id": "P3nMN5H1647o"
   },
   "source": [
    "## Next Steps\n",
    "\n",
    "- Verify class balance in the generators\n",
    "- Export and visualize augmented batches\n",
    "- Proceed to model training and evaluation in a separate notebook"
   ]
  },
  {
   "cell_type": "code",
   "execution_count": null,
   "id": "K4_yQv9F6hod",
   "metadata": {
    "id": "K4_yQv9F6hod"
   },
   "outputs": [],
   "source": []
  }
 ],
 "metadata": {
  "accelerator": "TPU",
  "colab": {
   "gpuType": "V28",
   "provenance": []
  },
  "kernelspec": {
   "display_name": "Python 3 (ipykernel)",
   "language": "python",
   "name": "python3"
  },
  "language_info": {
   "codemirror_mode": {
    "name": "ipython",
    "version": 3
   },
   "file_extension": ".py",
   "mimetype": "text/x-python",
   "name": "python",
   "nbconvert_exporter": "python",
   "pygments_lexer": "ipython3",
   "version": "3.11.4"
  }
 },
 "nbformat": 4,
 "nbformat_minor": 5
}
